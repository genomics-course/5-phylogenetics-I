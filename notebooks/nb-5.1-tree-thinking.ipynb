{
 "cells": [
  {
   "cell_type": "markdown",
   "metadata": {},
   "source": [
    "# Notebook 5.1: Tree thinking\n",
    "\n",
    "### Topics:\n",
    "\n",
    "This notebook is associated with the following reading:\n",
    "\n",
    "+ Baum, David A., and Susan Offner. 2008. “Phylogenics & Tree-Thinking.” The American Biology Teacher 70 (4): 222–30. <a href=\"https://doi.org/10.1662/0002-7685(2008)70[222:PT]2.0.CO;2\">link</a>.\n",
    "\n",
    "\n",
    "### Learning objectives:\n",
    "\n",
    "By the end of this notebook you should be able to:\n",
    "\n",
    "1. Describe relationships on a phylogenetic tree. \n",
    "2. Describe ortholog/paralog relationships on a phylogenetic tree.\n",
    "3. Recognize the newick format for storing tree data. \n",
    "4. Plot a phylogenetic tree in Python."
   ]
  },
  {
   "cell_type": "markdown",
   "metadata": {},
   "source": [
    "### Introduction\n",
    "\n",
    "This exercise uses a Python package called `toytree` to read and write *newick* formatted data files, and to manipulate and draw tree visualizations. The goal of this exercise to learn how to read phylogenetic trees, to interpret their meaning, and to understand how this information is represented as text data. Although you will not need to learn many details of the `toytree` Python library, you can find more information about it in the documentation [here](https://toytree.readthedocs.io/en/latest/)."
   ]
  },
  {
   "cell_type": "code",
   "execution_count": null,
   "metadata": {},
   "outputs": [],
   "source": [
    "import toytree"
   ]
  },
  {
   "cell_type": "markdown",
   "metadata": {},
   "source": [
    "### Why is phylogeny important?\n",
    "\n",
    "Your assigned reading quotes a philosopher of science who stated \"It is impossible to really understand evolution without an ability to accurately interpret phylogenetic trees (O'Hara 1988, 1997)\", and that \"evolution itself is a theory of evolutionary trees\". In biology generally, and in this class already, you have seen many examples of phylogenetic trees. But what does a phylogenetic tree represent? And why is it important to understand? There are actually a few common pitfalls that people fall into when reading phylogenetic trees without having spent serious time considering their meaning. Recognizing these mistakes will make you a better biologist. We'll cover some of these pitfalls in this notebook."
   ]
  },
  {
   "cell_type": "markdown",
   "metadata": {},
   "source": [
    "### Phylogenetic inference\n",
    "A phylogenetic tree is a depiction of the inferred evolutionary relationships among the units represented at the tips. Sometimes, when we have fossil or ancient DNA data, or in cases of experimental evolution (e.g., many generations of bacteria studied over decades) we can trace the evolutionary history of organisms in very fine detail. Most of the time, however, we only have data that can be sampled at the present, and from this limited data we need to *infer the past*. The goal of phylogenetics is to accurately reconstruct and represent past evolutionary relationships. "
   ]
  },
  {
   "cell_type": "markdown",
   "metadata": {},
   "source": [
    "### What is represented at the tips?\n",
    "\n",
    "You are probably most familiar with the use of phylogenetic trees to represent the evolutionary relationships of *species*. In that case the splits in a tree represent *speciation* events. Extant species are represented at the tips, and nodes deeper in the tree represent extinct common ancestors of the descendant lineages. \n",
    "\n",
    "Phylogenies can actually represent more than just species relationships though. You can use trees to represent the relationships among individuals sampled within a population, or you can use trees to represent the relationships among genes, including patterns of gene duplication and how orthologs and paralogs have been inherited through speciation events. "
   ]
  },
  {
   "cell_type": "markdown",
   "metadata": {},
   "source": [
    "<div class=\"alert alert-success\">\n",
    "    <b>Question [1]:</b> \n",
    "Look at Figures 1-3 in the paper by Baum and Offner. In this paper they are describing how to teach literacy in reading phylogenetic trees. What are they trying to depict through these three figures? Do you find this approach useful for teaching the interpretation of a phylogeny?\n",
    "Answer in Markdown below. \n",
    "</div>"
   ]
  },
  {
   "cell_type": "code",
   "execution_count": null,
   "metadata": {},
   "outputs": [],
   "source": []
  },
  {
   "cell_type": "markdown",
   "metadata": {},
   "source": [
    "### Newick tree format\n",
    "\n",
    "The text below defines a `tree` in [*newick* format](https://en.wikipedia.org/wiki/Newick_format). When researchers are working with phylogenetic trees as their data, this is the type of data they are working with. It is simply text. This format can contain just the relationships -- described by nested parentheses like below -- or it can contain additional information such as branch lengths, which we'll see later. You can see how the *nested* hierarchical relationship of a phylogeny is easily represented by a *nested* set of parentheses. \n",
    "\n"
   ]
  },
  {
   "cell_type": "code",
   "execution_count": null,
   "metadata": {},
   "outputs": [],
   "source": [
    "# Create the string variable to store a newick tree.\n",
    "tree1 = \"(gibbon, (orangutan, (gorilla, (chimp, human))));\"\n"
   ]
  },
  {
   "cell_type": "markdown",
   "metadata": {},
   "source": [
    "### Draw a tree\n",
    "Below is visualization of the tree structure defined in the `tree` variable.\n",
    "\n",
    "The `toytree.tree()` function returns an object (called a Toytree) which we save in the variable `tre`. This object has many functions associated with it for manipulating and drawing trees. The `.draw()` function returns a plot of the tree which is displayed in the cell output. The argument `tree_style='s'` to the draw functions tells it to draw the figure in a particular style. Each node in the tree is labeled with a number. \n"
   ]
  },
  {
   "cell_type": "code",
   "execution_count": null,
   "metadata": {},
   "outputs": [],
   "source": [
    "# create a toytree object\n",
    "tre = toytree.tree(tree1)\n",
    "\n",
    "# return a tree drawing\n",
    "tre.draw(tree_style='s');"
   ]
  },
  {
   "cell_type": "markdown",
   "metadata": {},
   "source": [
    "<div class=\"alert alert-success\">\n",
    "    <b>Question [2]:</b> \n",
    "In terms of the number labels on nodes, which node represents the common ancestor of chimp and human? Which is the common ancestor of orangutan and gibbon? Which of those pairs is more closely related? See Figure 6 in Baum and Offner if you need help. Answer in Markdown below.\n",
    "</div>"
   ]
  },
  {
   "cell_type": "code",
   "execution_count": null,
   "metadata": {},
   "outputs": [],
   "source": []
  },
  {
   "cell_type": "markdown",
   "metadata": {},
   "source": [
    "### Rotating nodes\n",
    "Rotating nodes simply changes the order in which the labels at the tips are arranged. However, it does not change the evolutionary relationships. This is because **the relative branching order of the tree remains the same**. Below we changed the order of human, chimp, and gorilla, but you can see that the common ancestor of human and chimp is still node 5, and the their common ancestor with gorilla is still node 6. "
   ]
  },
  {
   "cell_type": "code",
   "execution_count": null,
   "metadata": {},
   "outputs": [],
   "source": [
    "toytree.tree(tree1).rotate_node([\"gorilla\", \"chimp\", \"human\"]).draw(tree_style='s');"
   ]
  },
  {
   "cell_type": "markdown",
   "metadata": {},
   "source": [
    "### Test on interpreting phylogenies\n",
    "Below are four newick strings, and the resulting four phylogenies. The ordering of parentheses in the newick string does not necessarily change the relationships, only the pattern by which they are nested one within one another. Similarly, rotating nodes on the phylogeny changes the order of the tips, but does not change the distance to a common ancestor among those tips. Thus the relationships are retained."
   ]
  },
  {
   "cell_type": "code",
   "execution_count": null,
   "metadata": {},
   "outputs": [],
   "source": [
    "# read in four newick strings\n",
    "tre1 = toytree.tree('(gibbon,(orangutan,(gorilla,(chimp,human))));')\n",
    "tre2 = toytree.tree('((((human,chimp),gorilla),orangutan),gibbon);')\n",
    "tre3 = toytree.tree('((((human,chimp),orangutan),gorilla),gibbon);')\n",
    "tre4 = toytree.tree('(((gorilla,(human,chimp)),orangutan),gibbon);')\n",
    "\n",
    "# draw each tree with some arbitrary node rotating\n",
    "tre1.rotate_node([\"human\", \"chimp\"]).draw(use_edge_lengths=False);\n",
    "tre2.rotate_node([\"orangutan\"]).draw(use_edge_lengths=False);\n",
    "tre3.rotate_node([\"human\", \"chimp\", \"orangutan\"]).draw(use_edge_lengths=False);\n",
    "tre4.rotate_node([\"gibbon\"]).draw(use_edge_lengths=False);"
   ]
  },
  {
   "cell_type": "markdown",
   "metadata": {},
   "source": [
    "<div class=\"alert alert-success\">\n",
    "    <b>Question [3]:</b> \n",
    "Three of the rooted phylogenies above represent the same relationships among organisms, while one of them does not. Which tree (1-4) shows a different relationship? I rotated some nodes to make it more difficult. Answer in Markdown below. \n",
    "</div>"
   ]
  },
  {
   "cell_type": "code",
   "execution_count": null,
   "metadata": {},
   "outputs": [],
   "source": []
  },
  {
   "cell_type": "markdown",
   "metadata": {},
   "source": [
    "### Edge length information (Divergence times, i.e., ages of clades)\n",
    "Additional information such as the ages of clades is easy to include in the newick format. Below you can see that the lengths of branches are simply numeric values placed next to parentheses or tips (nodes of the tree). Below we use a different tree style for plotting (`tree_style='n'`) since this style will show branch length differences. \n",
    "\n",
    "The units of this plot are not indicated. Thus we do not know if it is thousands of years, millions of years, or if the units are even meant to represent time. **Branch lengths on a tree can represent different things**. Sometimes we represent the number of *character differences* separating taxa as units of branch lengths, and these character could be counted from morphological data, or genetic substitutions, or even by counting other features of the genome such as inversions or transposable elements. \n",
    "\n",
    "If a tree is inferred from DNA sequence data then the branch lengths could represent the number of observed DNA differences between species. Converting units of mutation substitutions into units of time is a tricky business that involves making assumptions about the rate of mutations. We will discuss this more later. "
   ]
  },
  {
   "cell_type": "code",
   "execution_count": null,
   "metadata": {},
   "outputs": [],
   "source": [
    "tree2 = \"(gibbon:3,(orangutan:2,(gorilla:1,(chimp:0.25,human:0.25):0.75):1):1);\"\n",
    "toytree.tree(tree2).draw(tree_style='n', scalebar=True);"
   ]
  },
  {
   "cell_type": "markdown",
   "metadata": {},
   "source": [
    "A tree where the branch lengths represent modeled DNA substitutions, as opposed to time, will likely not have all the tips align perfectly at zero. This is because different lineages may have different rates of evolution, or, even if their rates are the same, some may have accumulated more mutations by chance. Below is an example of what an inferred tree might look like when the edges are substitutions instead of time. This is sometimes called a phylogram while the above tree is a chronogram. Generally, though, we refer to both as phylogenies and simply label the axes and figure legends to describe what they represent. "
   ]
  },
  {
   "cell_type": "code",
   "execution_count": null,
   "metadata": {},
   "outputs": [],
   "source": [
    "tree2 = \"(gibbon:0.03,(orangutan:0.02,(gorilla:0.01,(chimp:0.0075,human:0.0025):0.0075):0.001):0.001);\"\n",
    "toytree.tree(tree2).draw(tree_style='n', scalebar=True);"
   ]
  },
  {
   "cell_type": "markdown",
   "metadata": {},
   "source": [
    "<div class=\"alert alert-success\">\n",
    "    <b>Action [4]:</b> \n",
    "Try to write a newick string for the relationships of six taxa (use new names, not the primates I used above) and plot it. Next, try to add branch lengths to the tree. Hint: just like in the code above, you need to store the newick string as a variable (e.g., tree1) and then load it with toytree using the `toytree.tree()` command, followed by the `.draw()` command. Look at the examples of newick strings to write yours following a similar style. The number of parentheses must match and you must put a semicolon at the end of the newick string. What source did you use to find the relationship among the organisms that you are drawing? \n",
    "</div>"
   ]
  },
  {
   "cell_type": "code",
   "execution_count": null,
   "metadata": {},
   "outputs": [],
   "source": []
  },
  {
   "cell_type": "markdown",
   "metadata": {},
   "source": [
    "### What is tree rooting?\n",
    "Every tree has a true root position. The root defines the direction in which evolution took place (from the past to the present). This is called the \"polarity\" of the tree. The problem is, for many types of phylogenetic inference we only care about counting the number of changes on the tree, which we can calculate without knowing the root. In fact, the resulting trees can be represented in unrooted form, and this can still be informative, but depending on where the true root, it may change our interpretation of the relationships. Best practice is to state whether a tree is rooted or not. Often a `polytomy` (unresolved split) at the base of the tree indicates whether it is rooted. The tree below is unrooted. It does not include a split telling us whether `(gorilla, (chimp, human));` is more closely related to orangutan or to gibbon, or equally related to both. "
   ]
  },
  {
   "cell_type": "code",
   "execution_count": null,
   "metadata": {},
   "outputs": [],
   "source": [
    "toytree.tree(tree1).unroot().draw(tree_style='s');"
   ]
  },
  {
   "cell_type": "markdown",
   "metadata": {},
   "source": [
    "For example, what if we place the root of the tree on the gibbon branch: Then the Orangutan is more closely related to the (g(c,h)) clade. To conceptualize what it means to \"place a root on the tree\", think of it as taking a point on one of the branches of the tree and pinching it like it is string, and pulling it back to form a new node. "
   ]
  },
  {
   "cell_type": "code",
   "execution_count": null,
   "metadata": {},
   "outputs": [],
   "source": [
    "toytree.tree(tree1).root(\"gibbon\").draw(tree_style='s');"
   ]
  },
  {
   "cell_type": "markdown",
   "metadata": {},
   "source": [
    "Whereas if the root is placed on the orangutan branch then the result is different:\n",
    "    "
   ]
  },
  {
   "cell_type": "code",
   "execution_count": null,
   "metadata": {},
   "outputs": [],
   "source": [
    "toytree.tree(tree1).root(\"orangutan\").draw(tree_style='s');"
   ]
  },
  {
   "cell_type": "markdown",
   "metadata": {},
   "source": [
    "The root could also be on the edge that separates (o, g) from (g,(h,c)). "
   ]
  },
  {
   "cell_type": "code",
   "execution_count": null,
   "metadata": {},
   "outputs": [],
   "source": [
    "toytree.tree(tree1).root([\"orangutan\", \"gibbon\"]).draw(tree_style='s');\n"
   ]
  },
  {
   "cell_type": "markdown",
   "metadata": {},
   "source": [
    "As you can see, knowing the root of the tree is important for interpreting the relationships of taxa. If we incorrectly put the root in the wrong place like in the examples above then we could misinterpret the relationships in the tree. Information from external source, like other phylogenies, fossil data, morphology, or the length of branches are often used to set the root of trees. When inferring a tree we can include a very distant sample and place the root on that sample to ensure the tree is correctly rooted. Consider the example below where we add a walrus into the tree. We know for sure that all of the primates are more closely related to each other than they are to the walrus. "
   ]
  },
  {
   "cell_type": "code",
   "execution_count": null,
   "metadata": {},
   "outputs": [],
   "source": [
    "tree3 = \"(walrus:0.1,(gibbon:0.03,(orangutan:0.02,(gorilla:0.01,(chimp:0.0075,human:0.0025):0.0075):0.001):0.001):0.1);\"\n",
    "toytree.tree(tree3).root(\"walrus\").draw(tree_style=\"n\");"
   ]
  }
 ],
 "metadata": {
  "kernelspec": {
   "display_name": "Python 3",
   "language": "python",
   "name": "python3"
  },
  "language_info": {
   "codemirror_mode": {
    "name": "ipython",
    "version": 3
   },
   "file_extension": ".py",
   "mimetype": "text/x-python",
   "name": "python",
   "nbconvert_exporter": "python",
   "pygments_lexer": "ipython3",
   "version": "3.6.7"
  }
 },
 "nbformat": 4,
 "nbformat_minor": 2
}
