{
 "cells": [
  {
   "cell_type": "markdown",
   "metadata": {},
   "source": [
    "## Notebook 5.1: Python bootcamp review"
   ]
  },
  {
   "cell_type": "markdown",
   "metadata": {},
   "source": [
    "This notebook is intended to test your comprehension of some important coding concepts that will be relevant moving forward so that you can write and interpret Python code. Please revisit old notebooks and lecture slides or search for help on online for topics that you find challenging. It is up to you to import any required libraries to accomplish the requested tasks. \n",
    "\n",
    "**All cells in this notebook are 'challenges' that you should try to complete as part of the assignment.**"
   ]
  },
  {
   "cell_type": "markdown",
   "metadata": {},
   "source": [
    "### The core Python object types"
   ]
  },
  {
   "cell_type": "code",
   "execution_count": 2,
   "metadata": {},
   "outputs": [],
   "source": [
    "# create a string object and store it to a variable x"
   ]
  },
  {
   "cell_type": "code",
   "execution_count": 3,
   "metadata": {},
   "outputs": [],
   "source": [
    "# create a string object with a newline character in it and print it."
   ]
  },
  {
   "cell_type": "code",
   "execution_count": 4,
   "metadata": {},
   "outputs": [],
   "source": [
    "# create a list made up of a mixture of integers and floats"
   ]
  },
  {
   "cell_type": "code",
   "execution_count": 5,
   "metadata": {},
   "outputs": [],
   "source": [
    "# create a dictionary "
   ]
  },
  {
   "cell_type": "markdown",
   "metadata": {},
   "source": [
    "### Coding routines"
   ]
  },
  {
   "cell_type": "code",
   "execution_count": 9,
   "metadata": {},
   "outputs": [],
   "source": [
    "# 1. Create a dictionary object with several key-value pairs\n",
    "# 2. Iterate over the dict printing the key and value of each item\n",
    "\n"
   ]
  },
  {
   "cell_type": "code",
   "execution_count": 10,
   "metadata": {},
   "outputs": [],
   "source": [
    "# 1. Create a list of 25 randomly sampled integers.\n",
    "# 2. Use list-comprehension to create a new list where another\n",
    "#    random integer is added to each item in the first list.\n",
    "\n"
   ]
  },
  {
   "cell_type": "code",
   "execution_count": 11,
   "metadata": {},
   "outputs": [],
   "source": [
    "# 1. Create a numpy array of 25 randomly sampled integers.\n",
    "# 2. Create another array where a random integer is added to every \n",
    "#    item in the first array. \n",
    "\n"
   ]
  },
  {
   "cell_type": "code",
   "execution_count": 12,
   "metadata": {},
   "outputs": [],
   "source": [
    "# 1. Create a list with several string objects in it.\n",
    "# 2. Iterate over the items in the list.\n",
    "# 3. For each item, use a conditional statement that will select\n",
    "#    some of the items but not others. \n",
    "# 4. print the items that return True to the conditional statement.\n",
    "\n"
   ]
  },
  {
   "cell_type": "code",
   "execution_count": 24,
   "metadata": {},
   "outputs": [],
   "source": [
    "# use bash or Python code to download the file from the following URL\n",
    "URL = \"https://eaton-lab.org/data/40578.fastq.gz\"\n",
    "\n",
    "\n"
   ]
  },
  {
   "cell_type": "markdown",
   "metadata": {},
   "source": [
    "### Writing, interpreting, and using functions"
   ]
  },
  {
   "cell_type": "code",
   "execution_count": 25,
   "metadata": {},
   "outputs": [],
   "source": [
    "# add comments after '#' in the following function.\n",
    "# feel free to take apart and test parts of the function \n",
    "# to learn what each part is doing.\n",
    "\n",
    "def reverse_complement(dnastring):\n",
    "    \"\"\"\n",
    "    Returns the reverse-complement of a string of DNA.\n",
    "    \"\"\"\n",
    "    # \n",
    "    compdict = {\n",
    "        'A': 'T',\n",
    "        'C': 'G',\n",
    "        'G': 'C',\n",
    "        'T': 'A',\n",
    "    }\n",
    "    \n",
    "    # \n",
    "    complist = [compdict[i] for i in dnastring]\n",
    "    \n",
    "    # \n",
    "    compstring = \"\".join(complist)\n",
    "    \n",
    "    # \n",
    "    revcompstring = compstring[::-1]\n",
    "    \n",
    "    # \n",
    "    return revcompstring\n",
    "\n"
   ]
  },
  {
   "cell_type": "code",
   "execution_count": 27,
   "metadata": {},
   "outputs": [],
   "source": [
    "# write a function to read the 40578.fastq.gz file and *return*\n",
    "# the length of the *first sequenced read* in the file. And \n",
    "# apply the function to the file to return the result.\n",
    "\n",
    "\n"
   ]
  },
  {
   "cell_type": "markdown",
   "metadata": {},
   "source": [
    "### Scientific Python\n",
    "Please revisit your assignments, the lecture slides, and/or the documentation for tips on using Pandas and Numpy. "
   ]
  },
  {
   "cell_type": "code",
   "execution_count": 29,
   "metadata": {},
   "outputs": [],
   "source": [
    "# Create a pandas dataframe with three columns composed of \n",
    "# randomly generated data created using the numpy.random \n",
    "# library. The first columns should be random integers, \n",
    "# the second random float values, and the last one\n",
    "# should a random string of A,C,G or T. Create 100 \n",
    "# rows of data in total. \n",
    "\n",
    "\n",
    "\n"
   ]
  },
  {
   "cell_type": "code",
   "execution_count": 30,
   "metadata": {},
   "outputs": [],
   "source": [
    "# Select all rows of the dataframe from above where the\n",
    "# third column is equal to \"A\". \n",
    "\n",
    "\n"
   ]
  },
  {
   "cell_type": "code",
   "execution_count": 31,
   "metadata": {},
   "outputs": [],
   "source": [
    "# Select all rows of the dataframe from above where the\n",
    "# third column is equal to \"T\" and change the values to \"U\".\n",
    "\n",
    "\n"
   ]
  },
  {
   "cell_type": "code",
   "execution_count": 41,
   "metadata": {},
   "outputs": [],
   "source": [
    "# Load a CSV file using the pandas library from the following URL\n",
    "# and set appropriate names for the columns.\n",
    "URL = \"https://eaton-lab.org/data/iris-data-dirty.csv\"\n",
    "\n",
    "\n"
   ]
  },
  {
   "cell_type": "code",
   "execution_count": 42,
   "metadata": {},
   "outputs": [],
   "source": [
    "# print all *unique* values in the column with taxon names\n",
    "\n",
    "\n"
   ]
  },
  {
   "cell_type": "code",
   "execution_count": 43,
   "metadata": {},
   "outputs": [],
   "source": [
    "# replace the names that appear to be typos in the names column"
   ]
  },
  {
   "cell_type": "code",
   "execution_count": 44,
   "metadata": {},
   "outputs": [],
   "source": [
    "# write code here to save the new revised dataframe as a CSV file.\n",
    "\n",
    "\n"
   ]
  },
  {
   "cell_type": "markdown",
   "metadata": {},
   "source": [
    "### Reading and writing files"
   ]
  },
  {
   "cell_type": "code",
   "execution_count": 45,
   "metadata": {},
   "outputs": [],
   "source": [
    "# Write the contents of the string object below to a new \n",
    "# file called \"hello-world.txt\".\n",
    "mystring = \"hello world\"\n",
    "\n",
    "\n",
    "\n"
   ]
  },
  {
   "cell_type": "code",
   "execution_count": 47,
   "metadata": {},
   "outputs": [],
   "source": [
    "# open the file \"hello-world.txt\" by writing the *full path*\n",
    "# to the location of the file on your filesystem. Read \n",
    "# the contents of the file and print it.\n",
    "\n",
    "\n"
   ]
  }
 ],
 "metadata": {
  "kernelspec": {
   "display_name": "Python 3",
   "language": "python",
   "name": "python3"
  },
  "language_info": {
   "codemirror_mode": {
    "name": "ipython",
    "version": 3
   },
   "file_extension": ".py",
   "mimetype": "text/x-python",
   "name": "python",
   "nbconvert_exporter": "python",
   "pygments_lexer": "ipython3",
   "version": "3.7.3"
  }
 },
 "nbformat": 4,
 "nbformat_minor": 2
}
