{
 "cells": [
  {
   "cell_type": "markdown",
   "metadata": {},
   "source": [
    "# Notebook 5.2: Phylogenetics in practice"
   ]
  },
  {
   "cell_type": "markdown",
   "metadata": {},
   "source": [
    "### Introduction\n",
    "\n",
    "*Orthologs* are homologous gene copies that diverged from a common ancestral gene during speciation events. After speciation, lineages evolve independently such that orthologous gene copies accumulate different mutations over time. This process can continue through many speciation events. As mutations arise in the periods between speciation they leave behind a record of the existence of the common ancestral sequence. In this way, the mutational process constructs a record that we can eventually use to reconstruct the order and timing of speciation events. By comparing the orthologous gene sequences of the descendant lineages alive today we can contruct a phylogeny as a snapshot of the past. "
   ]
  },
  {
   "cell_type": "markdown",
   "metadata": {},
   "source": [
    "### Inferring phylogenies\n",
    "\n",
    "In this notebook we will not dive too deep into the algorithmic and methodological complexity of phylogenetic inference. In its most basic form, the goal of molecular phylogenetics is to count the number of *character differences* (e.g., substitutions) between multiple orthologous sequences, and to build a tree that *minimizes* the number of steps needed to explain those differences. We can do this using simple parsimony methods (the fewest steps is the best), or with fancier methods that model DNA substitution as a probabilistic process (e.g., maximum likelihood).\n",
    "\n",
    "The details of how various phylogenetic software tools differ, and what assumptions they make, is important to learn and relevant if you use phylogenetics for research. And we'll get to some of those details later. But for now, we'll focus on the *applied* end of things. How do I infer a phylogenetic tree in practice? We'll turn our attention back to the more theoretical and statistical details later. "
   ]
  },
  {
   "cell_type": "markdown",
   "metadata": {},
   "source": [
    "### Practical tree inference\n",
    "\n",
    "There are three basic steps involved in inferring a phylogenetic tree. We'll complete a practical example from start to finish in this notebook. Then at the end your assignment will be to try to replicate this for an organism of your choice. \n",
    "\n",
    "1. Generate/retrieve sequence data from *orthologous gene regions*. For this we will use the NCBI API utilities that we learned about last time to query and fetch fasta files directly from a large database.   \n",
    "\n",
    "\n",
    "2. Align the data to identify substitutions at *homologous sites*. For this we will use a command line program called **muscle**. There are many alignment programs available, I chose this one because it's easy to use. We will input a fasta file that includes all of our sequence data, but for which each ortholog may be a different length and may start or stop at a different position in the gene. The muscle program will ouput a new fasta file where the sequences are aligned by imputing \"-\" symbols to improve the alignment. We'll see an example of this below.\n",
    "\n",
    "\n",
    "3. Infer a tree by entering the aligned data into a phylogenetic inference program. For this we'll enter the aligned fasta files into a program called **RAxML**. This is a commonly used phylogenetic inference program that uses Maximum Likelihood to infer the best tree to fit the data. As output RAxML produces a newick formatted tree file (like we learned about in the last notebook). Finally, we'll plot the tree result. "
   ]
  },
  {
   "cell_type": "code",
   "execution_count": null,
   "metadata": {},
   "outputs": [],
   "source": [
    "import os\n",
    "import subprocess\n",
    "import toytree\n",
    "import requests\n",
    "import pandas as pd"
   ]
  },
  {
   "cell_type": "markdown",
   "metadata": {},
   "source": [
    "<div class=\"alert alert-success\">\n",
    "    <b>Question [5]:</b> \n",
    "What are the 3 steps involved in practical phylogenetic inference? Answer concisely in Markdown below. \n",
    "</div>"
   ]
  },
  {
   "cell_type": "code",
   "execution_count": null,
   "metadata": {},
   "outputs": [],
   "source": []
  },
  {
   "cell_type": "markdown",
   "metadata": {},
   "source": [
    "## Retrieving sequence data\n",
    "\n",
    "To find individual genes or gene regions sampled from particular species the best place to look is the NCBI Genbank sequence archive. This database includes both Sanger sequenced DNA regions that were targeted by researchers for sequencing using primers, as well as genes or gene regions from sequenced and annotated genomes. In last week's notebook we used API tools to access fasta data directly from the database. Here we'll use that code again, written as Python functions. Execute the cells to load these functions, and follow along by reading the code and comments in it. We'll mostly focus on the results that the code produces. "
   ]
  },
  {
   "cell_type": "markdown",
   "metadata": {},
   "source": [
    "#### Retrieve unique IDs for some number of samples\n",
    "The `esearch` API returns unique IDs for the search term that we use. Our query below is searching for a particular *marker* that is commonly used in plant phylogenetic studies (`trnK`). This is a chloroplast gene that has an important function and so tends to be highly conserved, which makes it easy to sequence by designing primers to amplify it. However, it also contains an *intron* sequence nearby that can be sequenced along with it, and this region is more variable, and thus provides more phylogenetic information than the conserved part. It has historically been difficult to find genomic regions that are both easy to amplify and variable enough to work as good phylogenetic markers. The few regions that were first discovered to fit this category have been used extensively. And because of this inertia they have become what is called *universal markers* -- a few gene regions that have been sequenced across thousands of organisms by many research groups over several decades. These markers provide the best sampled phylogenetic data that we have, and through a community effort of collaboration and data sharing have made it possible to combine available data to build enormous phylogenies for thousands of species that help to elucidate the tree of life. \n",
    "\n",
    "In addition to targeting the `trnK` gene we're also restricting our query to a specific organism, the plant genus *Pedicularis*. This is a group of plants that I study. Please follow along using this search term for now, you will have a chance to explore other search terms later below. \n",
    "\n"
   ]
  },
  {
   "cell_type": "code",
   "execution_count": null,
   "metadata": {},
   "outputs": [],
   "source": [
    "# execute this cell to create the get_uids function\n",
    "\n",
    "def get_uids(term, retmax=10):\n",
    "    \"Search NCBI nucleotide database and return N sequence matches\"\n",
    "    \n",
    "    # make a request to esearch \n",
    "    res = requests.get(\n",
    "        url=\"https://eutils.ncbi.nlm.nih.gov/entrez/eutils/esearch.fcgi\", \n",
    "        params={\n",
    "            \"db\": \"nucleotide\",\n",
    "            \"term\": term,\n",
    "            \"sort\": \"length\",\n",
    "            \"retmode\": \"text\",\n",
    "            \"retmax\": retmax,\n",
    "            \"tool\": \"genomics-course\", \n",
    "            \"email\": \"de2356@columbia.edu\",\n",
    "            },\n",
    "        )\n",
    "    \n",
    "    # parse the xml output\n",
    "    count = res.text.split(\"<Count>\")[1].split(\"</Count>\")[0].strip()\n",
    "    \n",
    "    # if nothing found then bail out\n",
    "    if not int(count):\n",
    "        raise ValueError(\"No UIDs found\")\n",
    "    \n",
    "    # return the list of UIDs\n",
    "    uids = []\n",
    "    ids = res.text.split(\"<IdList>\")[1].split(\"</IdList>\")[0].strip()\n",
    "    for item in ids.split(\"\\n\"):\n",
    "        uids.append(item[4:-5])\n",
    "    return uids"
   ]
  },
  {
   "cell_type": "markdown",
   "metadata": {},
   "source": [
    "Our query statement to the database is stored as the variable `term` below. We enter this as an argument to the `get_uids()` function and tell it to return at most 20 results. The function returns a list of strings that represent unique IDs matching our query. "
   ]
  },
  {
   "cell_type": "code",
   "execution_count": null,
   "metadata": {},
   "outputs": [],
   "source": [
    "# the search term\n",
    "term = \"trnk[GENE] AND Pedicularis[ORGN]\"\n",
    "\n",
    "# call the function to get uids and store as a list\n",
    "ingroups = get_uids(term=term, retmax=20)\n",
    "\n",
    "# show the first ten values\n",
    "ingroups[:10]"
   ]
  },
  {
   "cell_type": "markdown",
   "metadata": {},
   "source": [
    "### Outgroup sample\n",
    "As we learned in the last notebook, it is important to *root* your tree so that you know the direction of evolution when interpreting evolutionary relationships. One way to do this is to include an **outgroup** sample in your analysis -- a sample that you know is more distantly related to everything else. Here we'll include 2 samples from a closely related genus. To do this I changed the search term string below to look for the *same gene* but from a *different organism*. Finally we add the list results of this search (2 UIDs) with the list results of the first one (20 UIDs) to have a total of 22 samples in the final list `uids`. We could combine many searches to select samples from a variety of species, or genera, or families in this way. "
   ]
  },
  {
   "cell_type": "code",
   "execution_count": null,
   "metadata": {
    "scrolled": true
   },
   "outputs": [],
   "source": [
    "# the search term\n",
    "term = \"trnk[GENE] AND Orobanche[ORGN]\"\n",
    "\n",
    "# call the function to get uids and store as a list\n",
    "outgroups = get_uids(term=term, retmax=2)\n",
    "\n",
    "# show these uids\n",
    "print(outgroups)\n",
    "\n",
    "# add these uids to the list\n",
    "uids = ingroups + outgroups"
   ]
  },
  {
   "cell_type": "markdown",
   "metadata": {},
   "source": [
    "#### Retrieve fasta data for the UIDs\n",
    "\n",
    "The next function fetches fasta data from the database based on the unique IDs that we got from the previous search. In the API call here we specify the strand of DNA, which will ensure they are all returned in the same orientation, and we also specify a start and stop limit just to ensure we do not get back sequences longer than 2000 base pairs. Here automation can sometimes be dangerous because there are errors in the metadata of the database. For example, people sometimes enter the wrong strand information into the metadata when they upload the sequences, which can cause your sequences to not align well. It is important to visually inspect your data to check for these types of errors, as we will do below. \n"
   ]
  },
  {
   "cell_type": "code",
   "execution_count": null,
   "metadata": {},
   "outputs": [],
   "source": [
    "# execute this cell to create the get_fasta function\n",
    "\n",
    "def get_fasta(uids):\n",
    "    \"\"\"\n",
    "    Fetch fasta sequence data from NCBI for a list of uids\n",
    "    and return as a dictionary of {name: sequence}.\n",
    "    \"\"\"\n",
    "    # make a request to efetch \n",
    "    res = requests.get(\n",
    "        url=\"https://eutils.ncbi.nlm.nih.gov/entrez/eutils/efetch.fcgi\", \n",
    "            params={\n",
    "            \"db\": \"nucleotide\",\n",
    "            \"id\": \",\".join(uids),\n",
    "            \"seq_start\": \"1\",\n",
    "            \"seq_stop\": \"2000\",\n",
    "            \"strand\": \"1\",\n",
    "            \"retmode\": \"text\",   \n",
    "            \"rettype\": \"fasta\",\n",
    "            \"tool\": \"genomics-course\", \n",
    "            \"email\": \"de2356@columbia.edu\",\n",
    "            },\n",
    "        )\n",
    "    \n",
    "    # split fasta string into separate fasta sequences\n",
    "    fastas = res.text.strip().split(\"\\n\\n\")\n",
    "    \n",
    "    # write to output file\n",
    "    with open(\"sequences.fasta\", 'w') as out:\n",
    "        for fasta in fastas:\n",
    "\n",
    "            # separate name and sequence\n",
    "            name, sequence = fasta.split(\"\\n\", 1)\n",
    "\n",
    "            # reorder and shorten fasta names for easier reading\n",
    "            bits = name.split()\n",
    "            genus = bits[1][0]\n",
    "            species = bits[2]\n",
    "            accession = bits[0][1:].split(\":\")[0]\n",
    "            name = \">{}_{}_{}\".format(genus, species, accession)\n",
    "\n",
    "            # remove line breaks from sequence\n",
    "            sequence = sequence.replace(\"\\n\", \"\")\n",
    "\n",
    "            # write to file\n",
    "            out.write(\"{}\\n{}\\n\".format(name, sequence))\n",
    "    \n",
    "    # print statement\n",
    "    print(\"Wrote {} sequences to ./sequences.fasta\".format(len(fastas)))\n",
    "    "
   ]
  },
  {
   "cell_type": "code",
   "execution_count": null,
   "metadata": {},
   "outputs": [],
   "source": [
    "# run the get_fasta command\n",
    "fastadict = get_fasta(uids)"
   ]
  },
  {
   "cell_type": "markdown",
   "metadata": {},
   "source": [
    "#### Looking at the fasta file\n",
    "\n",
    "We now downloaded orthologous gene sequences for 22 samples (20 *Pedicularis* and 2 *Castilleja*). The function above printed a statement saying that it printed the data to `./sequences.fasta`. You can open the file in your file viewer to look at it. Or, we can also peek at it here in the notebook. Let's look at just the first few columns and rows of data. Here I'm going to use a cool trick in Pandas to display the DNA as a DataFrame with colored cells. "
   ]
  },
  {
   "cell_type": "code",
   "execution_count": null,
   "metadata": {},
   "outputs": [],
   "source": [
    "# execute to create the following functions\n",
    "\n",
    "def highlight_dna(cell):\n",
    "    \"A function to color cells by DNA base\"\n",
    "    color = {\"A\": 'red', \"T\": 'blue', \"C\": 'green', \"G\": 'yellow', \"-\": \"lightgrey\"}\n",
    "    return 'background-color: {}'.format(color[cell])\n",
    "\n",
    "\n",
    "\n",
    "def colored_slice(fasta, start, stop):\n",
    "    \"returns a colored dataframe over a given slice\"\n",
    "    # load seq data \n",
    "    with open(fasta) as infile:\n",
    "\n",
    "        # load sequence file as a dictionary\n",
    "        fdict = {}\n",
    "        for fa in infile.read().strip()[1:].split(\"\\n>\"):\n",
    "            name, seq = fa.split(\"\\n\")\n",
    "            fdict[name] = list(seq)[start: stop]\n",
    "\n",
    "        # make dataframe from dictionary\n",
    "        df = pd.DataFrame(fdict, index=range(start, stop)).T\n",
    "\n",
    "    # show dataframe as colored cells\n",
    "    return df.style.applymap(highlight_dna)\n"
   ]
  },
  {
   "cell_type": "markdown",
   "metadata": {},
   "source": [
    "We can now use this function to look at a slice of this fasta file. You can scroll to the right to see more columns as well. Each column here represents one sequenced base. When all of the samples have the same base at a position this means that the site is not variable (at least given our sampling). No mutations have occurred at that site since these species diverged from each other. You can see that most columns for the Pedicularis samples are invariant, but then there is a lot of mismatch with the two outgroup samples in the bottom two rows.  \n",
    "\n",
    "Now remember, the sequences in this file have not been aligned yet, so we expect that they may look pretty bad at this stage. As you scroll to the right you'll see that the ingroup samples (Pedicularis) also fall out of phase pretty quickly. That is because there was an insertion or deletion at some point which is not being accounted for. Let's see if aligning makes this look better. "
   ]
  },
  {
   "cell_type": "code",
   "execution_count": null,
   "metadata": {},
   "outputs": [],
   "source": [
    "# we can't tell yet that the sequences are not aligned\n",
    "colored_slice(\"./sequences.fasta\", 0, 100)"
   ]
  },
  {
   "cell_type": "markdown",
   "metadata": {},
   "source": [
    "## Alignment\n",
    "\n",
    "The muscle alignment program is a command line program that can be called as `muscle -in infile -out outfile`. In the function below we use the Python library `subprocess` to call and run the program from within Python with `subprocess.call()`. This is a convenient way in which to use Python code as \"glue\" to tie together programs written in other languages with tasks you want to complete in Python. \n",
    "\n",
    "The program muscle uses an algorithm to insert \"-\" characters into the alignment so that it minimizes differences among sites. The details of this algorithm are interesting, and there are many ways to perform alignments, but that is outside the scope of this tutorial. Below we simply call the muscle program and parse the output to write it back to a file in a way that will be easy for us to load it back in as a pandas DataFrame to look at again with color. "
   ]
  },
  {
   "cell_type": "code",
   "execution_count": null,
   "metadata": {},
   "outputs": [],
   "source": [
    "# execute this cell to create the align_fasta function\n",
    "\n",
    "def align_fasta(fasta_file):\n",
    "    \n",
    "    # the output aligned file name to use\n",
    "    aligned = fasta_file + \".aligned\"\n",
    "    \n",
    "    # run muscle alignment program on fasta file to produce output file\n",
    "    cmd = [\"muscle\", \"-in\", fasta_file, \"-out\", aligned]\n",
    "    subprocess.call(cmd)\n",
    "\n",
    "    # read in results of aligned file\n",
    "    with open(aligned) as infile:\n",
    "        fastas = infile.read().strip()[1:].split(\"\\n>\")\n",
    "        \n",
    "    # remove newlines from aligned file\n",
    "    with open(aligned, 'w') as out:\n",
    "        for fasta in fastas:\n",
    "\n",
    "            # separate name and sequence\n",
    "            name, sequence = fasta.split(\"\\n\", 1)\n",
    "\n",
    "            # remove line breaks from sequence\n",
    "            sequence = sequence.replace(\"\\n\", \"\")\n",
    "\n",
    "            # write to file\n",
    "            out.write(\">{}\\n{}\\n\".format(name, sequence))\n",
    "    \n",
    "    # print statement\n",
    "    print(\"Wrote aligned file to {}\".format(aligned))\n",
    "    "
   ]
  },
  {
   "cell_type": "code",
   "execution_count": null,
   "metadata": {},
   "outputs": [],
   "source": [
    "# run the alignment program\n",
    "align_fasta(\"./sequences.fasta\")"
   ]
  },
  {
   "cell_type": "markdown",
   "metadata": {},
   "source": [
    "#### Look at the aligned fasta file\n",
    "Muscle produced a new fasta file where the data is now aligned. Let's take a look to ensure that it looks better than our previous non-aligned data. Scroll around and see that there are now grey \"-\" characters imputed to improve the alignment. Is likely not perfect, but hopefully it's pretty accurate. Now when there is variation at a site we expect that variation represents substitutions that have happened at a single orthologous site. "
   ]
  },
  {
   "cell_type": "code",
   "execution_count": null,
   "metadata": {},
   "outputs": [],
   "source": [
    "# looking in the middle of the file it's clear they are not aligned\n",
    "colored_slice(\"./sequences.fasta.aligned\", 100, 200)\n"
   ]
  },
  {
   "cell_type": "markdown",
   "metadata": {},
   "source": [
    "## Infer a phylogeny\n",
    "\n",
    "Similarly to how we called the program `muscle` above, here we will call the program `raxmlHPC` using the Python subprocess library again. The raxml software is complex and requires a number of arguments. You do not need to worry about those for now. You can look at the documentation for the software to learn more. The take home message here is that in just a minute or two this software can take our input aligned fasta file and infer a phylogeny as well as an estimate of confidence/support in that estimate. We'll discuss more later the complexities of how tree inference works."
   ]
  },
  {
   "cell_type": "code",
   "execution_count": null,
   "metadata": {},
   "outputs": [],
   "source": [
    "# execute this cell to create the infer_tree command\n",
    "\n",
    "def infer_tree(aligned_fasta):\n",
    "    \n",
    "    # remove previous results if they exist\n",
    "    oldname = \"RAxML_info.{}\".format(os.path.basename(aligned_fasta))\n",
    "    if os.path.exists(oldname):\n",
    "        os.remove(oldname)\n",
    "        \n",
    "    # the raxml command\n",
    "    cmd = [\n",
    "        \"raxmlHPC\", \n",
    "        \"-f\", \"a\",\n",
    "        \"-s\", aligned_fasta, \n",
    "        \"-m\", \"GTRGAMMA\", \n",
    "        \"-n\", os.path.basename(aligned_fasta),\n",
    "        \"-p\", \"12345\", \n",
    "        \"-x\", \"54321\",\n",
    "        \"-w\", os.path.realpath(\".\"),\n",
    "        \"-N\", \"100\",\n",
    "    ]\n",
    "        \n",
    "    # print the raxml command\n",
    "    print(\"running: {}\\n\".format(\" \".join(cmd)))\n",
    "    subprocess.call(cmd)\n",
    "    \n",
    "    # print statement\n",
    "    print(\"Tree file written to ./RAxML_bipartitions.{}\".format(\n",
    "        os.path.basename(aligned_fasta)))\n",
    "    "
   ]
  },
  {
   "cell_type": "code",
   "execution_count": null,
   "metadata": {},
   "outputs": [],
   "source": [
    "# run the tree inference \n",
    "infer_tree(\"./sequences.fasta.aligned\")"
   ]
  },
  {
   "cell_type": "markdown",
   "metadata": {},
   "source": [
    "### Plot/draw the phylogeny\n",
    "\n",
    "Now that you've inferred a tree the next step is of course to check your results by visualization. Plot the tree. We can then compare the topology to our expectation based on morphology, or geography, or other expectations. Do all of the branch lengths look reasonable? If not, perhaps you have a bad sequence in the alignment. Visually inspect it and consider removing it. \n",
    "\n",
    "In the tree below everything looks reasonable and likely correct given my knowledge of this group of organisms. I rooted the tree on the two outgroup sequences using the `.root()` function and a *wildcard* selector that will match any names starting with \"O_\". In the final tree I also included a scalebar. You'll notice that on this tree the tips (black lines) do not all line up at 0 (the dashed lines are added just make the name labels align to make reading it easier). This is because this is not a time-scaled tree. The branch lengths are in units of substitutions per site. Some tips branches had more substitutions than others, which may reflect a higher rate of molecular evolution. Using this phylogeny we can now begin to test other evolutionary hypotheses. "
   ]
  },
  {
   "cell_type": "code",
   "execution_count": null,
   "metadata": {},
   "outputs": [],
   "source": [
    "# load the tree\n",
    "tre = toytree.tree(\"./RAxML_bestTree.sequences.fasta.aligned\")\n",
    "\n",
    "# root on the outgroups\n",
    "rtre = tre.root(regex=\"O_*\")\n",
    "\n",
    "# draw with support values\n",
    "rtre.draw(width=500, tip_labels_align=True, scalebar=True);"
   ]
  },
  {
   "cell_type": "markdown",
   "metadata": {},
   "source": [
    "### Challenge: Use these functions to infer a tree for some other organismal group\n",
    "\n",
    "We've now written functions to automate the minimal three steps required for inferring a phylogeny. And we can now reuse these functions to perform these tasks again with a different starting query to the database. \n",
    "\n",
    "\n",
    "<div class=\"alert alert-success\">\n",
    "    <b>Action [6]:</b> \n",
    "Infer a phylogeny for a group of organisms of your choice, and using a genetic marker of your choice, by following the instructions below. \n",
    "</div>"
   ]
  },
  {
   "cell_type": "markdown",
   "metadata": {},
   "source": [
    "#### 1. Find data\n",
    "Every organism is not in the NCBI database for all genes. The hardest part of this challenge will be finding a good genetic marker that is sequenced across enough taxa in the group you are searching. I would recommend starting by searching the internet for the name of common phylogenetic markers used in your organism (or in animals versus plants). You can search these terms directly on NCBI [https://www.ncbi.nlm.nih.gov/nuccore/](https://www.ncbi.nlm.nih.gov/nuccore/). Search for terms like \"universal phylogenetic marker\", or do a google scholar search for \"phylogeny\" + the name of the organism you're interested in. Find a phylogenetic study that used a marker and try to sample that data yourself here.\n",
    "\n",
    "Once you develop a good search term then you can insert it into the code below. If you get stuck head to the chat room. Don't try to move on to the next step until you get some UIDs printed below. If your search term does not match anything the function below will raise an error telling you that. \n",
    "\n",
    "After you get your ingroup samples you next need to find an outgroup. This means finding an organism outside of your core group, but still pretty closely related. This will require you to do some research as well. NCBI includes a lot of information about taxonomy, as do many other sites including Wikipedia, or published phylogenetic papers. "
   ]
  },
  {
   "cell_type": "code",
   "execution_count": null,
   "metadata": {},
   "outputs": [],
   "source": [
    "# call the function to get uids and store as a list\n",
    "term = \"trnK[GENE] AND Pedicularis[ORGN]\"\n",
    "ingroup = get_uids(term=term, retmax=20)\n",
    "\n",
    "# call the function to uids from an *outgroup* and add to list\n",
    "oterm = \"trnK[GENE] AND Orobanchaceae[ORGN]\"\n",
    "outgroup = get_uids(term=oterm, retmax=2)\n",
    "\n",
    "# show uids\n",
    "uids = ingroup + outgroup\n",
    "print(uids)"
   ]
  },
  {
   "cell_type": "code",
   "execution_count": null,
   "metadata": {},
   "outputs": [],
   "source": [
    "# get fasta data for the UIDs\n",
    "get_fasta(uids)"
   ]
  },
  {
   "cell_type": "markdown",
   "metadata": {},
   "source": [
    "#### 2. Align the fasta file\n",
    "Call the alignment function on your fasta file and then use the `colored_slice` function to look at your alignment. Does it look good, or a complete mess? If it's a mess do not proceed to the next step. Maybe you need to try a different search term, a more restrictive definition of the gene segment you are searching for. "
   ]
  },
  {
   "cell_type": "code",
   "execution_count": null,
   "metadata": {},
   "outputs": [],
   "source": [
    "# run the alignment program\n",
    "align_fasta(\"./sequences.fasta\")\n",
    "\n",
    "# looking in the middle of the file it's clear they are not aligned\n",
    "colored_slice(\"./sequences.fasta.aligned\", 300, 350)"
   ]
  },
  {
   "cell_type": "markdown",
   "metadata": {},
   "source": [
    "### Infer the tree\n",
    "If your alignment is good then there's not much to this step. Run it and wait for it to finish. \n",
    "\n",
    "\n"
   ]
  },
  {
   "cell_type": "code",
   "execution_count": null,
   "metadata": {},
   "outputs": [],
   "source": [
    "# run the tree inference \n",
    "infer_tree(\"./sequences.fasta.aligned\")"
   ]
  },
  {
   "cell_type": "markdown",
   "metadata": {},
   "source": [
    "### Draw your tree\n",
    "\n",
    "Before drawing your tree be sure to change the code below to select the proper names of your outgroup sequences to root the tree since their names are likely different than the ones that I used. If you need help with rooting the tree you can find more information [here](https://toytree.readthedocs.io/en/latest/5-toytrees.html#Rooting-trees). "
   ]
  },
  {
   "cell_type": "code",
   "execution_count": null,
   "metadata": {},
   "outputs": [],
   "source": [
    "# load the tree\n",
    "tre = toytree.tree(\"./RAxML_bestTree.sequences.fasta.aligned\")\n",
    "\n",
    "# root on the outgroups\n",
    "rtre = tre.root(regex=\"O_*\")\n",
    "\n",
    "# draw with support values\n",
    "rtre.draw(width=500, tip_labels_align=True, scalebar=True);"
   ]
  },
  {
   "cell_type": "markdown",
   "metadata": {},
   "source": [
    "\n",
    "<div class=\"alert alert-success\">\n",
    "    <b>Question [7]:</b> \n",
    "Reflect on your phylogeny above. Do you think it is accurate? Can you find a published phylogeny online for this group of organisms? If so, include it in your answer. What gene/marker did they use in that study? Do your trees show the same relationships for the selected organisms?\n",
    "    \n",
    "</div>"
   ]
  },
  {
   "cell_type": "code",
   "execution_count": null,
   "metadata": {},
   "outputs": [],
   "source": []
  },
  {
   "cell_type": "markdown",
   "metadata": {},
   "source": [
    "\n",
    "<div class=\"alert alert-success\">\n",
    "    <b>Question [8]:</b>     \n",
    "If you were writing a program to automate fetching data from online and inferring a tree, what would you do differently? What steps could be made easier? How do you imagine this will change as more and more annotated genes from assembled genomes are added to NCBI?\n",
    "</div>"
   ]
  },
  {
   "cell_type": "code",
   "execution_count": null,
   "metadata": {},
   "outputs": [],
   "source": []
  }
 ],
 "metadata": {
  "kernelspec": {
   "display_name": "Python 3",
   "language": "python",
   "name": "python3"
  },
  "language_info": {
   "codemirror_mode": {
    "name": "ipython",
    "version": 3
   },
   "file_extension": ".py",
   "mimetype": "text/x-python",
   "name": "python",
   "nbconvert_exporter": "python",
   "pygments_lexer": "ipython3",
   "version": "3.6.7"
  }
 },
 "nbformat": 4,
 "nbformat_minor": 2
}
